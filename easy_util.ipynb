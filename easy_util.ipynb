import numpy as np 
import pandas as pd
import os
from keras.models import Sequential
from keras.layers import Dense, Dropout, Flatten
from keras.layers import Conv2D, MaxPooling2D, BatchNormalization
from keras.callbacks import EarlyStopping, ModelCheckpoint
import cv2
from tqdm import tqdm
from keras import optimizers

from sklearn.cross_validation import KFold
from sklearn.metrics import fbeta_score
import time
import keras.backend as K

def get_model_input(datapath="../dataset/", train_size=None, test_size=None, image_size=64):

    x_train = []
    x_test = []
    y_train = []

    df_train = pd.read_csv(datapath + 'train_v2.csv')[:train_size]
    df_test = pd.read_csv(datapath + 'sample_submission_v2.csv')[:test_size]

    flatten = lambda l: [item for sublist in l for item in sublist]
    labels = list(set(flatten([l.split(' ') for l in df_train['tags'].values])))
    label_map = {l: i for i, l in enumerate(labels)}
    
    for f, tags in tqdm(df_train.values, miniters=1000):
        img = cv2.imread(datapath + 'train-jpg/{}.jpg'.format(f))
        targets = np.zeros(17)
        for t in tags.split(' '):
            targets[label_map[t]] = 1 
        x_train.append(cv2.resize(img, (image_size, image_size)))
        y_train.append(targets)

    for f, tags in tqdm(df_test.values, miniters=1000):
        img = cv2.imread(datapath + '/test-jpg/{}.jpg'.format(f))
        x_test.append(cv2.resize(img, (image_size, image_size)))

    y_train = np.array(y_train, np.uint8)
    x_train = np.array(x_train, np.float32)/255.
    x_test  = np.array(x_test, np.float32)/255.
    
    return x_train, y_train, x_test, labels, df_test
    
    
    def F2_score(threshold):
    '''
    【描述】
    题目中评价函数的实现，可作为metrics传给keras模型, 可使本地的结果与提交结果接近
    【输入参数】
    threshold: 应与write_output函数中的threshold一致，预测值大于threshold被视为包含该标签
    '''
    def FScore2(y_true, y_pred):  
        B2 = K.variable(4)
        OnePlusB2 = K.variable(5)

        threshold_ = K.variable(threshold)
        pred = K.cast(K.greater(y_pred, threshold_), 'float32')

        tp = K.sum(K.cast(K.less(K.abs(pred - K.clip(y_true, .5, 1.)), 0.01), 'float32'), -1)
        fp = K.sum(K.cast(K.greater(pred - y_true, 0.1), 'float32'), -1)
        fn = K.sum(K.cast(K.less(pred - y_true, -0.1), 'float32'), -1)

        f2 = OnePlusB2 * tp / (OnePlusB2 * tp + B2 * fn + fp)
        return K.mean(f2)
    return FScore2
    
    
    def run_model(model=None, x_train=None, y_train=None, x_test=None, nfolds = 5, epochs_list = [5],\
              learning_rate_list = [0.001], weights_path = '../models/', batch_size=64,\
              loss='binary_crossentropy',metrics=['accuracy'], labels=None):
    '''
    【输入参数】
    model: keras模型
    x_train, y_train, x_test: 把get_model_input函数得到的相应变量传进来即可
    nfolds: 进行几折交叉校验(cross validation)
    epochs_list,learning_rate_list: 训练轮数和学习率的列表，长度必须相等，相同位置对应一种组合
    weights_path: 保存模型权重的路径
    batch_size, loss, metrics: 同keras中model.fit的同名参数
    labels: 把get_model_input函数得到的相应变量传进来即可
    【返回值】
    模型对每个样本各个标签的预测值,值越大该样本越有可能包含该标签
    '''
    num_fold = 0
    sum_score = 0

    yfull_test = []
#     yfull_train =[]

    kf = KFold(len(y_train), n_folds=nfolds, shuffle=True, random_state=1)
    
    for train_index, test_index in kf:
        start_time_model_fitting = time.time()
        
        X_train = x_train[train_index]
        Y_train = y_train[train_index]
        X_valid = x_train[test_index]
        Y_valid = y_train[test_index]

        num_fold += 1
        print('Start KFold number {} from {}'.format(num_fold, nfolds))
        print('Split train: ', len(X_train), len(Y_train))
        print('Split valid: ', len(X_valid), len(Y_valid))
        
        kfold_weights_path = os.path.join(weights_path, 'weights_kfold_' + str(num_fold) + '.h5')
        
        epochs_arr = epochs_list
        learn_rates = learning_rate_list

        for learn_rate, epochs in zip(learn_rates, epochs_arr):
            opt  = optimizers.Adam(lr=learn_rate)
            model.compile(loss=loss,
                          optimizer=opt,
                          metrics=metrics)
            callbacks = [EarlyStopping(monitor='val_loss', patience=2, verbose=0),
            ModelCheckpoint(kfold_weights_path, monitor='val_loss', save_best_only=True, verbose=0)]

            model.fit(x = X_train, y= Y_train, validation_data=(X_valid, Y_valid),
                  batch_size=128,verbose=2, epochs=epochs,callbacks=callbacks,shuffle=True)
        
        if os.path.isfile(kfold_weights_path):
            model.load_weights(kfold_weights_path)
            
        p_test = model.predict(x_test, batch_size = batch_size, verbose=2)
        yfull_test.append(p_test)
    result = np.array(yfull_test[0])
    
    # 对nfolds次预测取平均
    for i in range(1, nfolds):
        result += np.array(yfull_test[i])
    result /= nfolds
    result = pd.DataFrame(result, columns = labels)
    return result
    
    
    
    def write_output(result, output_path='../output/', file_name='test.csv', df_test=None, threshold=0.2):
    '''
    【输入参数】
    result: 传入run_model函数的返回值即可
    output_path: 结果文件的路径
    file_name: 结果文件的名字
    df_test: 传入get_model_input函数返回的相应变量即可
    【输出】
    写出文件到相应路径下
    '''
#     thres = [0.07, 0.17, 0.2, 0.04, 0.23, 0.33, 0.24, 0.22, 0.1, 0.19, 0.23, 0.24, 0.12, 0.14, 0.25, 0.26, 0.16]
    preds = []
    for i in tqdm(range(result.shape[0]), miniters=1000):
        a = result.ix[[i]]
        a = a.apply(lambda x: x > threshold, axis=1)
        a = a.transpose()
        a = a.loc[a[i] == True]
        ' '.join(list(a.index))
        preds.append(' '.join(list(a.index)))

    df_test['tags'] = preds
    df_test.to_csv(output_path + file_name, index=False)
    
